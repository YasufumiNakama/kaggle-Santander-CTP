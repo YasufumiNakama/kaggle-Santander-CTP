{
 "cells": [
  {
   "cell_type": "code",
   "execution_count": 1,
   "metadata": {
    "_cell_guid": "b1076dfc-b9ad-4769-8c92-a6c4dae69d19",
    "_uuid": "8f2839f25d086af736a60e9eeb907d3b93b6e0e5"
   },
   "outputs": [
    {
     "name": "stdout",
     "output_type": "stream",
     "text": [
      "['santander-customer-transaction-prediction', 'santander-baseline-with-magic']\n"
     ]
    }
   ],
   "source": [
    "import numpy as np # linear algebra\n",
    "import pandas as pd # data processing, CSV file I/O (e.g. pd.read_csv)\n",
    "\n",
    "from sklearn.model_selection import KFold, StratifiedKFold\n",
    "from sklearn.metrics import roc_auc_score\n",
    "\n",
    "import warnings\n",
    "warnings.simplefilter(action='ignore', category=FutureWarning)\n",
    "warnings.filterwarnings('ignore')\n",
    "\n",
    "from catboost import CatBoostClassifier\n",
    "\n",
    "import os\n",
    "print(os.listdir(\"../input\"))"
   ]
  },
  {
   "cell_type": "code",
   "execution_count": 2,
   "metadata": {
    "_cell_guid": "79c7e3d0-c299-4dcb-8224-4455121ee9b0",
    "_uuid": "d629ff2d2480ee46fbb7e2d37f6b5fab8052498a"
   },
   "outputs": [],
   "source": [
    "df_train = pd.read_csv('../input/santander-baseline-with-magic/df_train.csv')\n",
    "df_test = pd.read_csv('../input/santander-baseline-with-magic/df_test.csv')"
   ]
  },
  {
   "cell_type": "code",
   "execution_count": 3,
   "metadata": {},
   "outputs": [],
   "source": [
    "random_state = 416\n",
    "np.random.seed(random_state)"
   ]
  },
  {
   "cell_type": "code",
   "execution_count": 4,
   "metadata": {},
   "outputs": [],
   "source": [
    "cat_params = {\n",
    "    \"objective\": \"Logloss\",\n",
    "    \"bootstrap_type\": 'Poisson',\n",
    "    \"iterations\": 100000,\n",
    "    \"learning_rate\": 0.03,\n",
    "    \"max_depth\": 5,\n",
    "    \"eval_metric\": 'AUC',\n",
    "    \"random_seed\": 1225,\n",
    "    \"subsample\": 0.9992666140793471,\n",
    "    \"bagging_temperature\": 1.8964010156765452,\n",
    "    \"random_strength\": 1,\n",
    "    \"l2_leaf_reg\": 91,\n",
    "    \"od_type\": 'Iter',\n",
    "    \"metric_period\": 1000,\n",
    "    \"task_type\": \"GPU\",\n",
    "    \"od_wait\": 1000,\n",
    "    \"border_count\": 32,\n",
    "    \"max_ctr_complexity\": 5,\n",
    "    #\"boosting_type\": 'Plain'\n",
    "}"
   ]
  },
  {
   "cell_type": "code",
   "execution_count": 5,
   "metadata": {},
   "outputs": [],
   "source": [
    "def run_catboost(df_train, df_test, cat_params, features):\n",
    "    \n",
    "    X_test = df_test[features].values\n",
    "    \n",
    "    skf = StratifiedKFold(n_splits=5, shuffle=True, random_state=random_state)\n",
    "    oof = df_train[['ID_code', 'target']]\n",
    "    oof['predict'] = 0\n",
    "    predictions = df_test[['ID_code']]\n",
    "    val_aucs = []\n",
    "    #feature_importance_df = pd.DataFrame()\n",
    "    \n",
    "    for fold, (trn_idx, val_idx) in enumerate(skf.split(df_train, df_train['target'])):\n",
    "        X_train, y_train = df_train.iloc[trn_idx][features], df_train.iloc[trn_idx]['target']\n",
    "        X_valid, y_valid = df_train.iloc[val_idx][features], df_train.iloc[val_idx]['target']\n",
    "    \n",
    "        cat_model = CatBoostClassifier(**cat_params)\n",
    "        #categorical_features_pos = column_index(X_train, categorical)\n",
    "        cat_model.fit(X_train, y_train, eval_set=(X_valid, y_valid), \n",
    "                      #cat_features=categorical_features_pos,\n",
    "                      use_best_model=True)\n",
    "        \n",
    "        oof['predict'][val_idx] = cat_model.predict_proba(X_valid)[:, 1]\n",
    "        predictions['fold{}'.format(fold+1)] = cat_model.predict_proba(X_test)[:, 1]\n",
    "        val_score = roc_auc_score(y_valid, oof['predict'][val_idx])\n",
    "        val_aucs.append(val_score)\n",
    "        \n",
    "        # feature importance\n",
    "        #fold_importance_df = pd.DataFrame(list(cat_model.get_feature_importance()), columns=['feature','importance'])\n",
    "        #fold_importance_df[\"fold\"] = fold + 1\n",
    "        \n",
    "        #feature_importance_df = pd.concat([feature_importance_df, fold_importance_df], axis=0)\n",
    "    \n",
    "    return oof, predictions, val_aucs#, feature_importance_df"
   ]
  },
  {
   "cell_type": "code",
   "execution_count": 6,
   "metadata": {},
   "outputs": [
    {
     "name": "stdout",
     "output_type": "stream",
     "text": [
      "0:\tlearn: 0.5973849\ttest: 0.6022441\tbest: 0.6022441 (0)\ttotal: 21.9ms\tremaining: 36m 25s\n",
      "1000:\tlearn: 0.9023330\ttest: 0.8854340\tbest: 0.8854340 (1000)\ttotal: 10.7s\tremaining: 17m 37s\n",
      "2000:\tlearn: 0.9245825\ttest: 0.9006061\tbest: 0.9006061 (2000)\ttotal: 22.9s\tremaining: 18m 43s\n",
      "3000:\tlearn: 0.9360135\ttest: 0.9055064\tbest: 0.9055079 (2998)\ttotal: 34.8s\tremaining: 18m 44s\n",
      "4000:\tlearn: 0.9430415\ttest: 0.9073380\tbest: 0.9073420 (3998)\ttotal: 45.8s\tremaining: 18m 19s\n",
      "5000:\tlearn: 0.9478399\ttest: 0.9080983\tbest: 0.9080983 (5000)\ttotal: 56.7s\tremaining: 17m 57s\n",
      "6000:\tlearn: 0.9516714\ttest: 0.9086111\tbest: 0.9086166 (5981)\ttotal: 1m 7s\tremaining: 17m 41s\n",
      "7000:\tlearn: 0.9549382\ttest: 0.9089089\tbest: 0.9089089 (7000)\ttotal: 1m 18s\tremaining: 17m 28s\n",
      "8000:\tlearn: 0.9578491\ttest: 0.9091311\tbest: 0.9091383 (7984)\ttotal: 1m 29s\tremaining: 17m 12s\n",
      "9000:\tlearn: 0.9604452\ttest: 0.9091954\tbest: 0.9092002 (8924)\ttotal: 1m 40s\tremaining: 16m 59s\n",
      "10000:\tlearn: 0.9627847\ttest: 0.9094078\tbest: 0.9094247 (9910)\ttotal: 1m 52s\tremaining: 16m 53s\n",
      "11000:\tlearn: 0.9651083\ttest: 0.9095359\tbest: 0.9095359 (11000)\ttotal: 2m 3s\tremaining: 16m 39s\n",
      "12000:\tlearn: 0.9670954\ttest: 0.9096022\tbest: 0.9096183 (11946)\ttotal: 2m 14s\tremaining: 16m 25s\n",
      "13000:\tlearn: 0.9691785\ttest: 0.9096842\tbest: 0.9097026 (12958)\ttotal: 2m 25s\tremaining: 16m 12s\n",
      "14000:\tlearn: 0.9710624\ttest: 0.9098504\tbest: 0.9098576 (13979)\ttotal: 2m 36s\tremaining: 16m\n",
      "15000:\tlearn: 0.9729469\ttest: 0.9099700\tbest: 0.9099847 (14824)\ttotal: 2m 47s\tremaining: 15m 46s\n",
      "16000:\tlearn: 0.9747693\ttest: 0.9100970\tbest: 0.9101109 (15930)\ttotal: 2m 58s\tremaining: 15m 34s\n",
      "bestTest = 0.9101108909\n",
      "bestIteration = 15930\n",
      "Shrink model to first 15931 iterations.\n",
      "0:\tlearn: 0.6259151\ttest: 0.6254091\tbest: 0.6254091 (0)\ttotal: 15.8ms\tremaining: 26m 24s\n",
      "1000:\tlearn: 0.9014868\ttest: 0.8895226\tbest: 0.8895226 (1000)\ttotal: 11.1s\tremaining: 18m 19s\n",
      "2000:\tlearn: 0.9238878\ttest: 0.9045878\tbest: 0.9045878 (2000)\ttotal: 23.3s\tremaining: 19m 2s\n",
      "3000:\tlearn: 0.9349983\ttest: 0.9088469\tbest: 0.9088469 (3000)\ttotal: 35.2s\tremaining: 18m 56s\n",
      "4000:\tlearn: 0.9425561\ttest: 0.9106562\tbest: 0.9106562 (3999)\ttotal: 45.6s\tremaining: 18m 14s\n",
      "5000:\tlearn: 0.9479051\ttest: 0.9114654\tbest: 0.9114718 (4983)\ttotal: 56.7s\tremaining: 17m 56s\n",
      "6000:\tlearn: 0.9517653\ttest: 0.9119341\tbest: 0.9119352 (5983)\ttotal: 1m 7s\tremaining: 17m 39s\n",
      "7000:\tlearn: 0.9550507\ttest: 0.9120501\tbest: 0.9120593 (6914)\ttotal: 1m 18s\tremaining: 17m 23s\n",
      "8000:\tlearn: 0.9577616\ttest: 0.9124336\tbest: 0.9124424 (7949)\ttotal: 1m 29s\tremaining: 17m 8s\n",
      "9000:\tlearn: 0.9602282\ttest: 0.9125740\tbest: 0.9125810 (8984)\ttotal: 1m 40s\tremaining: 16m 54s\n",
      "10000:\tlearn: 0.9624665\ttest: 0.9126561\tbest: 0.9126602 (9979)\ttotal: 1m 51s\tremaining: 16m 41s\n",
      "11000:\tlearn: 0.9647042\ttest: 0.9126394\tbest: 0.9126658 (10125)\ttotal: 2m 2s\tremaining: 16m 28s\n",
      "12000:\tlearn: 0.9668275\ttest: 0.9126199\tbest: 0.9126781 (11442)\ttotal: 2m 12s\tremaining: 16m 14s\n",
      "bestTest = 0.9126780927\n",
      "bestIteration = 11442\n",
      "Shrink model to first 11443 iterations.\n",
      "0:\tlearn: 0.6180197\ttest: 0.6114314\tbest: 0.6114314 (0)\ttotal: 17.4ms\tremaining: 29m 3s\n",
      "1000:\tlearn: 0.9018686\ttest: 0.8879343\tbest: 0.8879343 (1000)\ttotal: 11s\tremaining: 18m 5s\n",
      "2000:\tlearn: 0.9237450\ttest: 0.9039206\tbest: 0.9039206 (2000)\ttotal: 21.7s\tremaining: 17m 41s\n",
      "3000:\tlearn: 0.9346473\ttest: 0.9089266\tbest: 0.9089348 (2995)\ttotal: 32.7s\tremaining: 17m 35s\n",
      "4000:\tlearn: 0.9411754\ttest: 0.9107236\tbest: 0.9107318 (3964)\ttotal: 43.8s\tremaining: 17m 30s\n",
      "5000:\tlearn: 0.9459428\ttest: 0.9116808\tbest: 0.9116821 (4995)\ttotal: 54.7s\tremaining: 17m 19s\n",
      "6000:\tlearn: 0.9501379\ttest: 0.9123325\tbest: 0.9123420 (5960)\ttotal: 1m 6s\tremaining: 17m 23s\n",
      "7000:\tlearn: 0.9538357\ttest: 0.9127208\tbest: 0.9127300 (6951)\ttotal: 1m 17s\tremaining: 17m 13s\n",
      "8000:\tlearn: 0.9569215\ttest: 0.9130290\tbest: 0.9130327 (7989)\ttotal: 1m 28s\tremaining: 16m 54s\n",
      "9000:\tlearn: 0.9598666\ttest: 0.9131746\tbest: 0.9131780 (8993)\ttotal: 1m 38s\tremaining: 16m 37s\n",
      "10000:\tlearn: 0.9625054\ttest: 0.9132679\tbest: 0.9132729 (9923)\ttotal: 1m 49s\tremaining: 16m 21s\n",
      "11000:\tlearn: 0.9648810\ttest: 0.9133260\tbest: 0.9133670 (10883)\ttotal: 1m 59s\tremaining: 16m 6s\n",
      "12000:\tlearn: 0.9672613\ttest: 0.9134317\tbest: 0.9134326 (11976)\ttotal: 2m 10s\tremaining: 15m 53s\n",
      "13000:\tlearn: 0.9693089\ttest: 0.9135634\tbest: 0.9135777 (12921)\ttotal: 2m 20s\tremaining: 15m 39s\n",
      "14000:\tlearn: 0.9712210\ttest: 0.9136356\tbest: 0.9136575 (13523)\ttotal: 2m 30s\tremaining: 15m 25s\n",
      "15000:\tlearn: 0.9731092\ttest: 0.9137422\tbest: 0.9137556 (14955)\ttotal: 2m 40s\tremaining: 15m 12s\n",
      "16000:\tlearn: 0.9749840\ttest: 0.9138014\tbest: 0.9138054 (15975)\ttotal: 2m 52s\tremaining: 15m 5s\n",
      "17000:\tlearn: 0.9767717\ttest: 0.9137365\tbest: 0.9138257 (16312)\ttotal: 3m 3s\tremaining: 14m 54s\n",
      "bestTest = 0.9138256907\n",
      "bestIteration = 16312\n",
      "Shrink model to first 16313 iterations.\n",
      "0:\tlearn: 0.5989040\ttest: 0.5969502\tbest: 0.5969502 (0)\ttotal: 15.6ms\tremaining: 25m 56s\n",
      "1000:\tlearn: 0.9017935\ttest: 0.8894297\tbest: 0.8894297 (1000)\ttotal: 10.3s\tremaining: 16m 56s\n",
      "2000:\tlearn: 0.9239370\ttest: 0.9037822\tbest: 0.9037822 (2000)\ttotal: 20.8s\tremaining: 16m 57s\n",
      "3000:\tlearn: 0.9346343\ttest: 0.9084877\tbest: 0.9084877 (3000)\ttotal: 31.2s\tremaining: 16m 48s\n",
      "4000:\tlearn: 0.9411713\ttest: 0.9102747\tbest: 0.9102786 (3998)\ttotal: 42.4s\tremaining: 16m 57s\n",
      "5000:\tlearn: 0.9462875\ttest: 0.9111968\tbest: 0.9112004 (4993)\ttotal: 54.1s\tremaining: 17m 7s\n",
      "6000:\tlearn: 0.9505098\ttest: 0.9117175\tbest: 0.9117175 (6000)\ttotal: 1m 5s\tremaining: 17m 5s\n",
      "7000:\tlearn: 0.9541971\ttest: 0.9120456\tbest: 0.9120510 (6980)\ttotal: 1m 16s\tremaining: 16m 53s\n",
      "8000:\tlearn: 0.9575488\ttest: 0.9122528\tbest: 0.9122544 (7991)\ttotal: 1m 27s\tremaining: 16m 41s\n",
      "9000:\tlearn: 0.9604132\ttest: 0.9122484\tbest: 0.9123399 (8347)\ttotal: 1m 37s\tremaining: 16m 25s\n",
      "bestTest = 0.9123399258\n",
      "bestIteration = 8347\n",
      "Shrink model to first 8348 iterations.\n",
      "0:\tlearn: 0.6257001\ttest: 0.6277409\tbest: 0.6277409 (0)\ttotal: 15ms\tremaining: 24m 58s\n",
      "1000:\tlearn: 0.9016384\ttest: 0.8891461\tbest: 0.8891461 (1000)\ttotal: 10.5s\tremaining: 17m 13s\n",
      "2000:\tlearn: 0.9235654\ttest: 0.9038018\tbest: 0.9038018 (2000)\ttotal: 21s\tremaining: 17m 7s\n",
      "3000:\tlearn: 0.9349869\ttest: 0.9091107\tbest: 0.9091107 (3000)\ttotal: 32s\tremaining: 17m 13s\n",
      "4000:\tlearn: 0.9421624\ttest: 0.9108913\tbest: 0.9109051 (3992)\ttotal: 43.6s\tremaining: 17m 26s\n",
      "5000:\tlearn: 0.9471678\ttest: 0.9118105\tbest: 0.9118105 (5000)\ttotal: 54.5s\tremaining: 17m 16s\n",
      "6000:\tlearn: 0.9515305\ttest: 0.9125241\tbest: 0.9125273 (5989)\ttotal: 1m 4s\tremaining: 16m 57s\n",
      "7000:\tlearn: 0.9548385\ttest: 0.9128290\tbest: 0.9128583 (6972)\ttotal: 1m 15s\tremaining: 16m 41s\n",
      "8000:\tlearn: 0.9577992\ttest: 0.9132192\tbest: 0.9132314 (7973)\ttotal: 1m 26s\tremaining: 16m 29s\n",
      "9000:\tlearn: 0.9605490\ttest: 0.9133762\tbest: 0.9133780 (8969)\ttotal: 1m 37s\tremaining: 16m 26s\n",
      "10000:\tlearn: 0.9631358\ttest: 0.9136179\tbest: 0.9136179 (10000)\ttotal: 1m 48s\tremaining: 16m 12s\n",
      "11000:\tlearn: 0.9654228\ttest: 0.9136669\tbest: 0.9136883 (10617)\ttotal: 1m 58s\tremaining: 15m 58s\n",
      "12000:\tlearn: 0.9676964\ttest: 0.9137825\tbest: 0.9137904 (11966)\ttotal: 2m 9s\tremaining: 15m 52s\n",
      "13000:\tlearn: 0.9697354\ttest: 0.9137692\tbest: 0.9137946 (12328)\ttotal: 2m 20s\tremaining: 15m 38s\n",
      "14000:\tlearn: 0.9719214\ttest: 0.9138554\tbest: 0.9138554 (14000)\ttotal: 2m 30s\tremaining: 15m 25s\n",
      "15000:\tlearn: 0.9738752\ttest: 0.9138904\tbest: 0.9139165 (14919)\ttotal: 2m 41s\tremaining: 15m 16s\n",
      "16000:\tlearn: 0.9756661\ttest: 0.9139150\tbest: 0.9139433 (15963)\ttotal: 2m 52s\tremaining: 15m 6s\n",
      "bestTest = 0.9139432907\n",
      "bestIteration = 15963\n",
      "Shrink model to first 15964 iterations.\n"
     ]
    }
   ],
   "source": [
    "features = [col for col in df_train.columns if col not in \n",
    "            ['target', 'ID_code']\n",
    "           ]\n",
    "oof, predictions, val_aucs = run_catboost(df_train, df_test, cat_params, features)"
   ]
  },
  {
   "cell_type": "code",
   "execution_count": 7,
   "metadata": {},
   "outputs": [
    {
     "name": "stdout",
     "output_type": "stream",
     "text": [
      "Mean auc: 0.912579550, std: 0.001383812. All auc: 0.912500751.\n"
     ]
    }
   ],
   "source": [
    "mean_auc = np.mean(val_aucs)\n",
    "std_auc = np.std(val_aucs)\n",
    "all_auc = roc_auc_score(oof['target'], oof['predict'])\n",
    "print(\"Mean auc: %.9f, std: %.9f. All auc: %.9f.\" % (mean_auc, std_auc, all_auc))"
   ]
  },
  {
   "cell_type": "code",
   "execution_count": 8,
   "metadata": {},
   "outputs": [
    {
     "data": {
      "text/html": [
       "<div>\n",
       "<style scoped>\n",
       "    .dataframe tbody tr th:only-of-type {\n",
       "        vertical-align: middle;\n",
       "    }\n",
       "\n",
       "    .dataframe tbody tr th {\n",
       "        vertical-align: top;\n",
       "    }\n",
       "\n",
       "    .dataframe thead th {\n",
       "        text-align: right;\n",
       "    }\n",
       "</style>\n",
       "<table border=\"1\" class=\"dataframe\">\n",
       "  <thead>\n",
       "    <tr style=\"text-align: right;\">\n",
       "      <th></th>\n",
       "      <th>ID_code</th>\n",
       "      <th>target</th>\n",
       "    </tr>\n",
       "  </thead>\n",
       "  <tbody>\n",
       "    <tr>\n",
       "      <th>0</th>\n",
       "      <td>test_0</td>\n",
       "      <td>0.074889</td>\n",
       "    </tr>\n",
       "    <tr>\n",
       "      <th>1</th>\n",
       "      <td>test_1</td>\n",
       "      <td>0.128429</td>\n",
       "    </tr>\n",
       "    <tr>\n",
       "      <th>2</th>\n",
       "      <td>test_2</td>\n",
       "      <td>0.124374</td>\n",
       "    </tr>\n",
       "    <tr>\n",
       "      <th>3</th>\n",
       "      <td>test_3</td>\n",
       "      <td>0.190123</td>\n",
       "    </tr>\n",
       "    <tr>\n",
       "      <th>4</th>\n",
       "      <td>test_4</td>\n",
       "      <td>0.038806</td>\n",
       "    </tr>\n",
       "  </tbody>\n",
       "</table>\n",
       "</div>"
      ],
      "text/plain": [
       "  ID_code    target\n",
       "0  test_0  0.074889\n",
       "1  test_1  0.128429\n",
       "2  test_2  0.124374\n",
       "3  test_3  0.190123\n",
       "4  test_4  0.038806"
      ]
     },
     "execution_count": 8,
     "metadata": {},
     "output_type": "execute_result"
    }
   ],
   "source": [
    "# submission\n",
    "predictions['target'] = np.mean(predictions[[col for col in predictions.columns if col not in ['ID_code', 'target']]].values, axis=1)\n",
    "predictions.to_csv('cat_all_predictions.csv', index=None)\n",
    "sub_df = pd.DataFrame({\"ID_code\":df_test[\"ID_code\"].values})\n",
    "sub_df[\"target\"] = predictions['target']\n",
    "sub_df.to_csv(\"cat_submission.csv\", index=False)\n",
    "oof.to_csv('cat_oof.csv', index=False)\n",
    "\n",
    "sub_df.head()"
   ]
  }
 ],
 "metadata": {
  "kernelspec": {
   "display_name": "Python 3",
   "language": "python",
   "name": "python3"
  },
  "language_info": {
   "codemirror_mode": {
    "name": "ipython",
    "version": 3
   },
   "file_extension": ".py",
   "mimetype": "text/x-python",
   "name": "python",
   "nbconvert_exporter": "python",
   "pygments_lexer": "ipython3",
   "version": "3.6.4"
  }
 },
 "nbformat": 4,
 "nbformat_minor": 1
}
